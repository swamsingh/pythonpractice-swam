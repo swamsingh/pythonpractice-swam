{
  "nbformat": 4,
  "nbformat_minor": 0,
  "metadata": {
    "colab": {
      "provenance": []
    },
    "kernelspec": {
      "name": "python3",
      "display_name": "Python 3"
    },
    "language_info": {
      "name": "python"
    }
  },
  "cells": [
    {
      "cell_type": "code",
      "execution_count": null,
      "metadata": {
        "id": "q17Dm3jinCt_"
      },
      "outputs": [],
      "source": [
        "num1 = int(input(\"Enter first number: \"))\n",
        "num2 = int(input(\"Enter second number: \"))\n",
        "product = 0\n",
        "for _ in range(abs(num2)):\n",
        "    product += abs(num1)\n",
        "if (num1 < 0 and num2 > 0) or (num1 > 0 and num2 < 0):\n",
        "    product = -product\n",
        "print(\"Product is:\", product)\n"
      ]
    },
    {
      "cell_type": "code",
      "source": [
        "num = int(input(\"Enter a number: \"))\n",
        "factorial = 1\n",
        "for i in range(1, num + 1):\n",
        "    factorial *= i\n",
        "print(\"Factorial is:\", factorial)\n"
      ],
      "metadata": {
        "id": "P0iBB3GhnU2V"
      },
      "execution_count": null,
      "outputs": []
    },
    {
      "cell_type": "code",
      "source": [
        "num = int(input(\"Enter a number: \"))\n",
        "count = 0\n",
        "while num > 0:\n",
        "    count += 1\n",
        "    num //= 10\n",
        "print(\"Total number of digits:\", count)\n"
      ],
      "metadata": {
        "id": "6EBMeeylnUzJ"
      },
      "execution_count": null,
      "outputs": []
    },
    {
      "cell_type": "code",
      "source": [
        "num = int(input(\"Enter a number: \"))\n",
        "for i in range(1, 11):\n",
        "    print(num * i, end=\" \")\n"
      ],
      "metadata": {
        "id": "quzIGX56nUxL"
      },
      "execution_count": null,
      "outputs": []
    },
    {
      "cell_type": "code",
      "source": [
        "for i in range(5):\n",
        "    print(i)\n",
        "else:\n",
        "    print(\"Done\")\n"
      ],
      "metadata": {
        "colab": {
          "base_uri": "https://localhost:8080/"
        },
        "id": "v8aA09kOnggL",
        "outputId": "f1e64bda-0fc6-4361-8142-5d8f317e7b5e"
      },
      "execution_count": 1,
      "outputs": [
        {
          "output_type": "stream",
          "name": "stdout",
          "text": [
            "0\n",
            "1\n",
            "2\n",
            "3\n",
            "4\n",
            "Done\n"
          ]
        }
      ]
    }
  ]
}