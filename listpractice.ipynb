{
  "nbformat": 4,
  "nbformat_minor": 0,
  "metadata": {
    "colab": {
      "provenance": []
    },
    "kernelspec": {
      "name": "python3",
      "display_name": "Python 3"
    },
    "language_info": {
      "name": "python"
    }
  },
  "cells": [
    {
      "cell_type": "code",
      "execution_count": 1,
      "metadata": {
        "colab": {
          "base_uri": "https://localhost:8080/"
        },
        "id": "ZsBf1HQLXgmT",
        "outputId": "5dd2a748-e716-46f4-d2c4-6e14b008bc4c"
      },
      "outputs": [
        {
          "output_type": "stream",
          "name": "stdout",
          "text": [
            "-5\n"
          ]
        }
      ],
      "source": [
        "# 1. Write a Python program to sum all the items in a list.\n",
        "# Click me to see the sample solution\n",
        "def sum_list(items):\n",
        "    sum_numbers = 0\n",
        "\n",
        "    for x in items:\n",
        "        sum_numbers += x\n",
        "    return sum_numbers\n",
        "\n",
        "print(sum_list([1, 2, -8]))"
      ]
    },
    {
      "cell_type": "code",
      "source": [
        "# 2. Write a Python program to multiply all the items in a list.\n",
        "# Click me to see the sample solution\n",
        "def multiply_list(items):\n",
        "    tot = 1\n",
        "\n",
        "    for x in items:\n",
        "        tot *= x\n",
        "    return tot\n",
        "\n",
        "print(multiply_list([1, 2, -8]))"
      ],
      "metadata": {
        "colab": {
          "base_uri": "https://localhost:8080/"
        },
        "id": "w3domlbtXjKs",
        "outputId": "0d291a8d-636e-4e82-9a3c-8a2d990d3324"
      },
      "execution_count": 2,
      "outputs": [
        {
          "output_type": "stream",
          "name": "stdout",
          "text": [
            "-16\n"
          ]
        }
      ]
    },
    {
      "cell_type": "code",
      "source": [
        "# 3. Write a Python program to get the largest number from a list.\n",
        "# Define a function called max_num_in_list that takes a list 'list' as input\n",
        "def max_num_in_list(list):\n",
        "    max = list[0]\n",
        "\n",
        "    for a in list:\n",
        "        if a > max:\n",
        "\n",
        "            max = a\n",
        "    return max\n",
        "\n",
        "print(max_num_in_list([1, 2, -8, 0]))"
      ],
      "metadata": {
        "colab": {
          "base_uri": "https://localhost:8080/"
        },
        "id": "pLndu_jkXjAy",
        "outputId": "e13fc31d-2d5d-4179-e053-2e3e916cf949"
      },
      "execution_count": 3,
      "outputs": [
        {
          "output_type": "stream",
          "name": "stdout",
          "text": [
            "2\n"
          ]
        }
      ]
    },
    {
      "cell_type": "code",
      "source": [
        "# 4. Write a Python program to get the smallest number from a list.\n",
        "def smallest_num_in_list(list):\n",
        "\n",
        "    min = list[0]\n",
        "    for a in list:\n",
        "        if a < min:\n",
        "\n",
        "            min = a\n",
        "    return min\n",
        "\n",
        "print(smallest_num_in_list([1, 2, -8, 0]))"
      ],
      "metadata": {
        "colab": {
          "base_uri": "https://localhost:8080/"
        },
        "id": "qE8LV6r_Xi9R",
        "outputId": "042ddb39-9355-41c9-8d8e-573587ce1511"
      },
      "execution_count": 4,
      "outputs": [
        {
          "output_type": "stream",
          "name": "stdout",
          "text": [
            "-8\n"
          ]
        }
      ]
    },
    {
      "cell_type": "code",
      "source": [
        "# 5. Write a Python program to count the number of strings from a given list of strings. The string length is 2 or more and the first and last characters are the same.\n",
        "# Sample List : ['abc', 'xyz', 'aba', '1221']\n",
        "# Expected Result : 2\n",
        "\n",
        "def match_words(words):\n",
        "\n",
        "    ctr = 0\n",
        "\n",
        "    for word in words:\n",
        "\n",
        "        if len(word) > 1 and word[0] == word[-1]:\n",
        "\n",
        "            ctr += 1\n",
        "    return ctr\n",
        "\n",
        "print(match_words(['abc', 'xyz', 'aba', '1221']))"
      ],
      "metadata": {
        "colab": {
          "base_uri": "https://localhost:8080/"
        },
        "id": "zphIyAIWXi6t",
        "outputId": "e69ce356-fd87-42d4-c7e6-37a23fb3eac2"
      },
      "execution_count": 5,
      "outputs": [
        {
          "output_type": "stream",
          "name": "stdout",
          "text": [
            "2\n"
          ]
        }
      ]
    },
    {
      "cell_type": "code",
      "source": [
        "# 6. Write a Python program to get a list, sorted in increasing order by the last element in each tuple from a given list of non-empty tuples.\n",
        "# Sample List : [(2, 5), (1, 2), (4, 4), (2, 3), (2, 1)]\n",
        "# Expected Result : [(2, 1), (1, 2), (2, 3), (4, 4), (2, 5)]\n",
        "\n",
        "def last(n):\n",
        "    return n[-1]\n",
        "\n",
        "def sort_list_last(tuples):\n",
        "\n",
        "    return sorted(tuples, key=last)\n",
        "\n",
        "\n",
        "print(sort_list_last([(2, 5), (1, 2), (4, 4), (2, 3), (2, 1)]))"
      ],
      "metadata": {
        "colab": {
          "base_uri": "https://localhost:8080/"
        },
        "id": "G0fvtLlCXi4X",
        "outputId": "7346cb61-986f-4f0d-fd1f-0b7603b389ea"
      },
      "execution_count": 6,
      "outputs": [
        {
          "output_type": "stream",
          "name": "stdout",
          "text": [
            "[(2, 1), (1, 2), (2, 3), (4, 4), (2, 5)]\n"
          ]
        }
      ]
    },
    {
      "cell_type": "code",
      "source": [],
      "metadata": {
        "id": "9g2VxDfVaJeD"
      },
      "execution_count": null,
      "outputs": []
    }
  ]
}