{
  "nbformat": 4,
  "nbformat_minor": 0,
  "metadata": {
    "colab": {
      "provenance": [],
      "toc_visible": true
    },
    "kernelspec": {
      "name": "python3",
      "display_name": "Python 3"
    },
    "language_info": {
      "name": "python"
    }
  },
  "cells": [
    {
      "cell_type": "code",
      "execution_count": 7,
      "metadata": {
        "colab": {
          "base_uri": "https://localhost:8080/"
        },
        "id": "reD5hpZsvfbK",
        "outputId": "764a20ea-c079-4de6-e0ef-16c1139b9c26"
      },
      "outputs": [
        {
          "output_type": "execute_result",
          "data": {
            "text/plain": [
              "400"
            ]
          },
          "metadata": {},
          "execution_count": 7
        }
      ],
      "source": [
        "# iterable\n",
        "# function\n",
        "mylist=[10,20,30]\n",
        "\n",
        "def square(num):\n",
        "  return num**2\n",
        "\n",
        "out = map(square,mylist)\n",
        "next(out)\n",
        "next(out)"
      ]
    },
    {
      "cell_type": "code",
      "source": [
        "mylist=[10,20,30]\n",
        "\n",
        "def square(num):\n",
        "  return num**2\n",
        "\n",
        "list(map(square,mylist))"
      ],
      "metadata": {
        "colab": {
          "base_uri": "https://localhost:8080/"
        },
        "id": "FV2aRLrGyHsL",
        "outputId": "50858e37-6831-4a05-8bec-7a3b87139b73"
      },
      "execution_count": 6,
      "outputs": [
        {
          "output_type": "execute_result",
          "data": {
            "text/plain": [
              "[100, 400, 900]"
            ]
          },
          "metadata": {},
          "execution_count": 6
        }
      ]
    },
    {
      "cell_type": "code",
      "source": [
        "mylist=[10,20,30]\n",
        "\n",
        "def square(num):\n",
        "  return num**2\n",
        "\n",
        "list(map(square,mylist))\n",
        "list(map(lambda num:num**2,mylist))"
      ],
      "metadata": {
        "colab": {
          "base_uri": "https://localhost:8080/"
        },
        "id": "ciXoM9PHydnd",
        "outputId": "20020275-1e3b-41a0-c6fc-e59c96ac14f0"
      },
      "execution_count": 9,
      "outputs": [
        {
          "output_type": "execute_result",
          "data": {
            "text/plain": [
              "[100, 400, 900]"
            ]
          },
          "metadata": {},
          "execution_count": 9
        }
      ]
    },
    {
      "cell_type": "code",
      "source": [],
      "metadata": {
        "id": "YqqWJSZjy0Go"
      },
      "execution_count": null,
      "outputs": []
    },
    {
      "cell_type": "code",
      "source": [
        "mylist=[10,20,30]\n",
        "\n",
        "def square(num):\n",
        "  return num**2\n",
        "\n",
        "list(map(lambda num:num**2,mylist))"
      ],
      "metadata": {
        "colab": {
          "base_uri": "https://localhost:8080/"
        },
        "outputId": "bcf4f997-5809-4bf1-b509-ca65b3b57728",
        "id": "Fx8M7QREy-tu"
      },
      "execution_count": 10,
      "outputs": [
        {
          "output_type": "execute_result",
          "data": {
            "text/plain": [
              "[100, 400, 900]"
            ]
          },
          "metadata": {},
          "execution_count": 10
        }
      ]
    },
    {
      "cell_type": "code",
      "source": [
        "list(map(lambda num:num%3==0,mylist))"
      ],
      "metadata": {
        "colab": {
          "base_uri": "https://localhost:8080/"
        },
        "id": "q6jaL71mzBwW",
        "outputId": "86c17d97-1d61-4019-d626-bb1abac625cb"
      },
      "execution_count": 12,
      "outputs": [
        {
          "output_type": "execute_result",
          "data": {
            "text/plain": [
              "[False, False, True]"
            ]
          },
          "metadata": {},
          "execution_count": 12
        }
      ]
    },
    {
      "cell_type": "code",
      "source": [
        "list(filter(lambda num:num%3==0,mylist))"
      ],
      "metadata": {
        "colab": {
          "base_uri": "https://localhost:8080/"
        },
        "id": "iZ1LF0m3zYhM",
        "outputId": "eff52948-b0cd-4aaa-ee4d-0c8ad7e52e17"
      },
      "execution_count": 13,
      "outputs": [
        {
          "output_type": "execute_result",
          "data": {
            "text/plain": [
              "[30]"
            ]
          },
          "metadata": {},
          "execution_count": 13
        }
      ]
    },
    {
      "cell_type": "markdown",
      "source": [
        "exception handling\n"
      ],
      "metadata": {
        "id": "rMqpE9PpzssE"
      }
    },
    {
      "cell_type": "code",
      "source": [
        "#handling the errors => terminate\n",
        "print(10)\n",
        "print(num231)\n",
        "print(\"hey\")"
      ],
      "metadata": {
        "colab": {
          "base_uri": "https://localhost:8080/"
        },
        "id": "qYBcTmVtzrPc",
        "outputId": "f278d446-b09b-4fcb-8463-2ae76870bf0a"
      },
      "execution_count": 15,
      "outputs": [
        {
          "output_type": "stream",
          "name": "stdout",
          "text": [
            "10\n",
            "hey\n"
          ]
        }
      ]
    },
    {
      "cell_type": "code",
      "source": [
        "try :\n",
        "  print(10)\n",
        "  print(num231)\n",
        "  print(\"hey\")\n",
        "except:\n",
        "  print(\"error occur\")"
      ],
      "metadata": {
        "colab": {
          "base_uri": "https://localhost:8080/"
        },
        "id": "RIeXF7FD0DNQ",
        "outputId": "06c9ca69-83ff-44b4-f58e-03b773a994d9"
      },
      "execution_count": 16,
      "outputs": [
        {
          "output_type": "stream",
          "name": "stdout",
          "text": [
            "10\n",
            "error occur\n"
          ]
        }
      ]
    },
    {
      "cell_type": "code",
      "source": [
        "try :\n",
        "  print(10)\n",
        "  print(num231)\n",
        "  print(\"hey\")\n",
        "except NameError as e:\n",
        "  print(\"error occur\",e)"
      ],
      "metadata": {
        "colab": {
          "base_uri": "https://localhost:8080/"
        },
        "id": "zgLbjXdl0DJr",
        "outputId": "3ff3809b-0a95-43ca-faa3-8765e6c6a4ab"
      },
      "execution_count": 17,
      "outputs": [
        {
          "output_type": "stream",
          "name": "stdout",
          "text": [
            "10\n",
            "error occur name 'num231' is not defined\n"
          ]
        }
      ]
    },
    {
      "cell_type": "code",
      "source": [
        "try :\n",
        "  print(10)\n",
        "  print(num231)\n",
        "  \"hey\"+10\n",
        "except (NameError,TypeError)as e:\n",
        "  print(\"error occur\")"
      ],
      "metadata": {
        "colab": {
          "base_uri": "https://localhost:8080/"
        },
        "id": "fv7qNkRH0DHg",
        "outputId": "51ed8fe8-7547-4f8d-b94b-11a716c45538"
      },
      "execution_count": 18,
      "outputs": [
        {
          "output_type": "stream",
          "name": "stdout",
          "text": [
            "10\n",
            "error occur\n"
          ]
        }
      ]
    },
    {
      "cell_type": "code",
      "source": [
        "try :\n",
        "  print(10)\n",
        "  \"hey\"+10\n",
        "  print(num231)\n",
        "\n",
        "except (NameError,TypeError)as e:\n",
        "  print(\"error occur\",e)"
      ],
      "metadata": {
        "colab": {
          "base_uri": "https://localhost:8080/"
        },
        "id": "UN7cPUZH1gtG",
        "outputId": "9008bcd3-d398-4700-8525-b656a05ef2b0"
      },
      "execution_count": 20,
      "outputs": [
        {
          "output_type": "stream",
          "name": "stdout",
          "text": [
            "10\n",
            "error occur can only concatenate str (not \"int\") to str\n"
          ]
        }
      ]
    },
    {
      "cell_type": "code",
      "source": [
        "try :\n",
        "  print(10)\n",
        "  print(num231)\n",
        "  \"hey\"+10\n",
        "except (NameError,TypeError)as e:\n",
        "  print(\"error occur\",e)\n",
        "except Exception as e:\n",
        "  print(\"All erroe occured\",e)"
      ],
      "metadata": {
        "colab": {
          "base_uri": "https://localhost:8080/"
        },
        "id": "o2F1MAH11lEi",
        "outputId": "e61b3374-4f75-467d-b986-19cd6c5881b1"
      },
      "execution_count": 21,
      "outputs": [
        {
          "output_type": "stream",
          "name": "stdout",
          "text": [
            "10\n",
            "error occur name 'num231' is not defined\n"
          ]
        }
      ]
    },
    {
      "cell_type": "code",
      "source": [
        "try :\n",
        "  print(10)\n",
        "  print(num231)\n",
        "  \"hey\"+10\n",
        "except (NameError,TypeError)as e:\n",
        "  print(\"error occur\")\n",
        "finally:\n",
        "  print(\"hey\")"
      ],
      "metadata": {
        "colab": {
          "base_uri": "https://localhost:8080/"
        },
        "id": "P3UpNu_7159g",
        "outputId": "0b998a2e-88bc-404d-ce74-3e479f61378d"
      },
      "execution_count": 22,
      "outputs": [
        {
          "output_type": "stream",
          "name": "stdout",
          "text": [
            "10\n",
            "error occur\n",
            "hey\n"
          ]
        }
      ]
    },
    {
      "cell_type": "code",
      "source": [
        "#3sum smaller\n",
        "given an array of n integer nums and a target ,find the number of index triplets i,j,k with 0<=i<j<k<n that satisfy the condition nums[i]+nums[j]+nums[k]<target\n",
        "#"
      ],
      "metadata": {
        "id": "Y6dZU9i32BlF"
      },
      "execution_count": null,
      "outputs": []
    },
    {
      "cell_type": "code",
      "source": [
        "    num=[-2,0,1,3]\n",
        "    target=2\n",
        "    count=0\n",
        "    n=len(num)\n",
        "    nums=sorted(num)\n",
        "    for i in range(n - 2):\n",
        "        left = i + 1\n",
        "        right = n - 1\n",
        "        while left < right:\n",
        "            current_sum = nums[i] + nums[left] + nums[right]\n",
        "            if current_sum < target:\n",
        "\n",
        "                count += right - left\n",
        "                left += 1\n",
        "            else:\n",
        "                right-= 1\n",
        "\n",
        "                return count"
      ],
      "metadata": {
        "colab": {
          "base_uri": "https://localhost:8080/",
          "height": 110
        },
        "id": "x-OVCiOtGsHg",
        "outputId": "757099af-4a93-40fe-a0a3-3e54b76dd981"
      },
      "execution_count": 27,
      "outputs": [
        {
          "output_type": "error",
          "ename": "SyntaxError",
          "evalue": "'return' outside function (<ipython-input-27-27d108150f79>, line 18)",
          "traceback": [
            "\u001b[0;36m  File \u001b[0;32m\"<ipython-input-27-27d108150f79>\"\u001b[0;36m, line \u001b[0;32m18\u001b[0m\n\u001b[0;31m    return count\u001b[0m\n\u001b[0m    ^\u001b[0m\n\u001b[0;31mSyntaxError\u001b[0m\u001b[0;31m:\u001b[0m 'return' outside function\n"
          ]
        }
      ]
    },
    {
      "cell_type": "code",
      "source": [
        "def three_sum_smaller(num, target):\n",
        "    count = 0\n",
        "    n = len(num)\n",
        "    nums = sorted(num)\n",
        "\n",
        "    for i in range(n - 2):\n",
        "        left = i + 1\n",
        "        right = n - 1\n",
        "        while left < right:\n",
        "            current_sum = nums[i] + nums[left] + nums[right]\n",
        "            if current_sum < target:\n",
        "                count += right - left\n",
        "                left += 1\n",
        "            else:\n",
        "                right -= 1\n",
        "\n",
        "    return count\n",
        "\n",
        "# Example usage\n",
        "num = [-2, 0, 1, 3]\n",
        "target = 2\n",
        "result = three_sum_smaller(num, target)\n",
        "print(result)\n"
      ],
      "metadata": {
        "colab": {
          "base_uri": "https://localhost:8080/"
        },
        "id": "SQvtedfrJq7f",
        "outputId": "bcced5c8-ab96-42df-fd8d-03a0b9ae29c7"
      },
      "execution_count": 28,
      "outputs": [
        {
          "output_type": "stream",
          "name": "stdout",
          "text": [
            "2\n"
          ]
        }
      ]
    }
  ]
}