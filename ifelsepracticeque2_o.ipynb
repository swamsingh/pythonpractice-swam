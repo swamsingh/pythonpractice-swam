{
  "nbformat": 4,
  "nbformat_minor": 0,
  "metadata": {
    "colab": {
      "provenance": [],
      "toc_visible": true
    },
    "kernelspec": {
      "name": "python3",
      "display_name": "Python 3"
    },
    "language_info": {
      "name": "python"
    }
  },
  "cells": [
    {
      "cell_type": "code",
      "execution_count": null,
      "metadata": {
        "id": "ApdOiGkr_PnE"
      },
      "outputs": [],
      "source": [
        "#1.\tWrite a program that takes a user input of three angles and will find out whether it can form a triangle or not.\n",
        "angles = [float(input(f\"Enter angle {i+1}: \")) for i in range(3)]\n",
        "if sum(angles) == 180 and all(angle > 0 for angle in angles):\n",
        "    print(\"The angles form a triangle.\")\n",
        "else:\n",
        "    print(\"The angles do not form a triangle.\")\n"
      ]
    },
    {
      "cell_type": "code",
      "source": [
        "# 11.\tWrite a program that will reverse a four digit number.Also it checks whether the reverse\n",
        "num = input(\"Enter a four-digit number: \")\n",
        "reverse_num = num[::-1]\n",
        "\n",
        "if num == reverse_num:\n",
        "    print(f\"The reverse of {num} is {reverse_num} and it is the same.\")\n",
        "else:\n",
        "    print(f\"The reverse of {num} is {reverse_num} and it is not the same.\")\n"
      ],
      "metadata": {
        "id": "fHnNEejv_k_9"
      },
      "execution_count": null,
      "outputs": []
    },
    {
      "cell_type": "code",
      "source": [
        "#\n",
        "number = int(input(\"Enter a number: \"))\n",
        "sum_of_cubes = sum(int(digit) ** 3 for digit in str(number))\n",
        "\n",
        "if sum_of_cubes == number:\n",
        "    print(f\"{number} is an Armstrong number.\")\n",
        "else:\n",
        "    print(f\"{number} is not an Armstrong number.\")"
      ],
      "metadata": {
        "id": "tzicUHL5_5Ln"
      },
      "execution_count": null,
      "outputs": []
    }
  ]
}