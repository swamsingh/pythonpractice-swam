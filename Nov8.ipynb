{
  "nbformat": 4,
  "nbformat_minor": 0,
  "metadata": {
    "colab": {
      "provenance": []
    },
    "kernelspec": {
      "name": "python3",
      "display_name": "Python 3"
    },
    "language_info": {
      "name": "python"
    }
  },
  "cells": [
    {
      "cell_type": "code",
      "execution_count": 1,
      "metadata": {
        "id": "-zm6tR96-UYP"
      },
      "outputs": [],
      "source": [
        "# wrey a program to TAKE a list of lists and flattens ir into one single list.\n",
        "input=[[1,2,3],[4,5,6],[7,8,9]]\n",
        "output=[1,2,3,4,5,6,7,8,9]"
      ]
    },
    {
      "cell_type": "code",
      "source": [
        "def flattens_list(nested_list):\n",
        "  flat_list = [item for sublist in nested_list for item in sublist]\n",
        "  return flat_list\n",
        "print(flattens_list(input))"
      ],
      "metadata": {
        "colab": {
          "base_uri": "https://localhost:8080/"
        },
        "id": "5sMZzo6dKsB8",
        "outputId": "be4c0207-40bf-4ef0-b711-41e2c2a71e11"
      },
      "execution_count": 2,
      "outputs": [
        {
          "output_type": "stream",
          "name": "stdout",
          "text": [
            "[1, 2, 3, 4, 5, 6, 7, 8, 9]\n"
          ]
        }
      ]
    },
    {
      "cell_type": "code",
      "source": [
        "# write a python function to find the second largest element in a list.\n",
        "input= [12,34,43,13,98]\n",
        "output = 43"
      ],
      "metadata": {
        "id": "FXSzHGs4LDZH"
      },
      "execution_count": 3,
      "outputs": []
    },
    {
      "cell_type": "code",
      "source": [
        "def second_largest(numbers):\n",
        "  unique_numbers = list(set(numbers))\n",
        "  unique_numbers.sort()\n",
        "  return unique_numbers[-2]\n",
        "\n",
        "print(second_largest(input))"
      ],
      "metadata": {
        "colab": {
          "base_uri": "https://localhost:8080/"
        },
        "id": "kzWcLEXwL1Wa",
        "outputId": "efbcdd9a-4fef-46e5-df00-806444bd2803"
      },
      "execution_count": 6,
      "outputs": [
        {
          "output_type": "stream",
          "name": "stdout",
          "text": [
            "43\n"
          ]
        }
      ]
    },
    {
      "cell_type": "code",
      "source": [
        "# write a function that rotates a list to the right by a given numbers of steps\n",
        "input = [1,2,3,4,5,6] # steps = 2\n",
        "output = [5,6,1,2,3,4]"
      ],
      "metadata": {
        "id": "9bF8sBNlMLFu"
      },
      "execution_count": 8,
      "outputs": []
    },
    {
      "cell_type": "code",
      "source": [
        "def rotate_list(list, steps):\n",
        "  steps  = steps % len(list)\n",
        "  rotated_list = list[-steps:] + list[:-steps]\n",
        "  return rotated_list\n",
        "print(rotate_list(input,2))"
      ],
      "metadata": {
        "colab": {
          "base_uri": "https://localhost:8080/"
        },
        "id": "Ks1RMheDOH_q",
        "outputId": "7b205056-ad2c-4e20-9bad-4c820a2fcea7"
      },
      "execution_count": 9,
      "outputs": [
        {
          "output_type": "stream",
          "name": "stdout",
          "text": [
            "[5, 6, 1, 2, 3, 4]\n"
          ]
        }
      ]
    },
    {
      "cell_type": "code",
      "source": [
        "# prompt: # write a function to find all  pairs of  list  that sum upto a target  value.\n",
        "# input = [1,2,3,4,5] # target = 5\n",
        "# #  output = [(1,4),(2,3),(3,2),(4,1)]\n",
        "\n",
        "def find_pairs(input_list, target):\n",
        "  pairs = []\n",
        "  seen = set()\n",
        "  for num in input_list:\n",
        "    complement = target - num\n",
        "    if complement in seen:\n",
        "      pairs.append((num, complement))\n",
        "      pairs.append((complement, num)) # Include reverse pairs\n",
        "    seen.add(num)\n",
        "  return pairs\n",
        "\n",
        "input_list = [1, 2, 3, 4, 5]\n",
        "target_value = 5\n",
        "result = find_pairs(input_list, target_value)\n",
        "result"
      ],
      "metadata": {
        "colab": {
          "base_uri": "https://localhost:8080/"
        },
        "id": "Aj9OsZZUO270",
        "outputId": "fe57f1f2-a397-41a2-e428-d873b8525c03"
      },
      "execution_count": 10,
      "outputs": [
        {
          "output_type": "stream",
          "name": "stdout",
          "text": [
            "[(3, 2), (4, 1)]\n"
          ]
        }
      ]
    },
    {
      "cell_type": "code",
      "source": [
        "# wriet a function to find the common elements between two lists without duplicat\n",
        "input1 = [1,2,3,4,5]\n",
        "input2 = [4,5,6,7,8]\n",
        "output = [4,5]\n",
        "def find_common_elements(list1, list2):\n",
        "  return list(set(list1) & set(list2))\n",
        "\n",
        "\n",
        "print(find_common_elements(input1,input2))\n",
        ""
      ],
      "metadata": {
        "colab": {
          "base_uri": "https://localhost:8080/"
        },
        "id": "0jeAPf3VVuGE",
        "outputId": "601a7e75-dbab-437b-982f-ab6e89d96c74"
      },
      "execution_count": 13,
      "outputs": [
        {
          "output_type": "stream",
          "name": "stdout",
          "text": [
            "[4, 5]\n"
          ]
        }
      ]
    },
    {
      "cell_type": "code",
      "source": [
        "# write a python program  to reverse the elements of a list.\n",
        "# example inputr = [1,2,3,4,5] output = [5,4,3,2,1]"
      ],
      "metadata": {
        "id": "D_h-NSodWoCP"
      },
      "execution_count": null,
      "outputs": []
    },
    {
      "cell_type": "code",
      "source": [
        "# wrietea program to remove duplicater from a program\n",
        "# example inputr = [1,2,2,3,4,4,5] output = [1,2,3,4,5,]"
      ],
      "metadata": {
        "id": "ZXpTiJdtXL-Z"
      },
      "execution_count": 14,
      "outputs": []
    },
    {
      "cell_type": "code",
      "source": [
        "# write a program to sort a list of numbers in scending order\n",
        "# example inputr = [13,54,76,34,87,] output ="
      ],
      "metadata": {
        "id": "ZfmCrFd3XL0y"
      },
      "execution_count": 15,
      "outputs": []
    },
    {
      "cell_type": "code",
      "source": [
        "# write a program to count how many times an element PPEARS in alist\n",
        "# example inputr = [1,2,3,4,5] element = 2 output = 3"
      ],
      "metadata": {
        "id": "zMMiYdXBXLxa"
      },
      "execution_count": 16,
      "outputs": []
    },
    {
      "cell_type": "code",
      "source": [
        "# write a program to find the sum of all even numbers in a list\n",
        "# example inputr = [1,2,3,4,5] output = 15"
      ],
      "metadata": {
        "id": "0Y6zImaqXLm9"
      },
      "execution_count": null,
      "outputs": []
    }
  ]
}