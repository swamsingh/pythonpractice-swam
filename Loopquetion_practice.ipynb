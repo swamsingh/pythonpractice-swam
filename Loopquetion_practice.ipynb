{
  "nbformat": 4,
  "nbformat_minor": 0,
  "metadata": {
    "colab": {
      "provenance": [],
      "toc_visible": true
    },
    "kernelspec": {
      "name": "python3",
      "display_name": "Python 3"
    },
    "language_info": {
      "name": "python"
    }
  },
  "cells": [
    {
      "cell_type": "code",
      "execution_count": null,
      "metadata": {
        "id": "vSiUP0A8lU3e"
      },
      "outputs": [],
      "source": [
        "# 1.\tPrint all factors of a given number provided by the user.\n",
        "num = int(input(\"Enter a number: \"))\n",
        "print(\"Factors of\", num, \"are:\")\n",
        "for i in range(1, num + 1):\n",
        "    if num % i == 0:\n",
        "        print(i, end=\" \")\n"
      ]
    },
    {
      "cell_type": "code",
      "source": [
        "# 2.\tPrint all the armstrong numbers in the range of 100 to 1000 [M]\n",
        "print(\"Armstrong numbers between 100 and 1000 are:\")\n",
        "for num in range(100, 1000):\n",
        "    sum_of_cubes = sum(int(digit)**3 for digit in str(num))\n",
        "    if num == sum_of_cubes:\n",
        "        print(num, end=\" \")\n"
      ],
      "metadata": {
        "id": "jQzllCYmlcCt"
      },
      "execution_count": null,
      "outputs": []
    },
    {
      "cell_type": "code",
      "source": [
        "\n",
        "# 3.\tThe current population of a town is 10000. The population of the town is increasing at the rate of 10% per year. You have to write a program to find out the population at the end of each of the last 10 years.\n",
        "current_population = 10000\n",
        "rate = 0.10\n",
        "print(\"Population over the last 10 years:\")\n",
        "for year in range(10, 0, -1):\n",
        "    print(f\"{year}th year => {int(current_population)}\")\n",
        "    current_population /= 1 + rate\n"
      ],
      "metadata": {
        "id": "epn5BBRblb_R"
      },
      "execution_count": null,
      "outputs": []
    },
    {
      "cell_type": "code",
      "source": [
        "# 4.\tWrite a program to print whether a given number is prime number or not\n",
        "num = int(input(\"Enter a number: \"))\n",
        "is_prime = num > 1 and all(num % i != 0 for i in range(2, int(num**0.5) + 1))\n",
        "print(\"Prime\" if is_prime else \"Not Prime\")\n"
      ],
      "metadata": {
        "id": "0gFvYjGzlb8f"
      },
      "execution_count": null,
      "outputs": []
    },
    {
      "cell_type": "code",
      "source": [
        "# 5.\tUser will provide 2 numbers you have to find the by LCM of those 2 numbers\n",
        "import math\n",
        "num1 = int(input(\"Enter first number: \"))\n",
        "num2 = int(input(\"Enter second number: \"))\n",
        "lcm = abs(num1 * num2) // math.gcd(num1, num2)\n",
        "print(\"LCM is:\", lcm)\n"
      ],
      "metadata": {
        "id": "f4jFc02Llb6C"
      },
      "execution_count": null,
      "outputs": []
    },
    {
      "cell_type": "code",
      "source": [
        "# 6.\tUser will provide 2 numbers you have to find the HCF of those 2 numbers\n",
        "import math\n",
        "num1 = int(input(\"Enter first number: \"))\n",
        "num2 = int(input(\"Enter second number: \"))\n",
        "hcf = math.gcd(num1, num2)\n",
        "print(\"HCF is:\", hcf)\n"
      ],
      "metadata": {
        "id": "LUMuPCWQlb3e"
      },
      "execution_count": null,
      "outputs": []
    },
    {
      "cell_type": "code",
      "source": [
        "# 7.\tWrite a program to find the sum of first n numbers, where n will be provided by the user. Eg if the user provides n=10 the output should be 55.\n",
        "n = int(input(\"Enter a number: \"))\n",
        "sum_n = n * (n + 1) // 2\n",
        "print(\"Sum of first\", n, \"numbers is:\", sum_n)\n"
      ],
      "metadata": {
        "id": "b32CpAJ8lb0w"
      },
      "execution_count": null,
      "outputs": []
    },
    {
      "cell_type": "code",
      "source": [],
      "metadata": {
        "id": "sSlQq9dNlbyS"
      },
      "execution_count": null,
      "outputs": []
    },
    {
      "cell_type": "code",
      "source": [],
      "metadata": {
        "id": "kmeCIU47lbwC"
      },
      "execution_count": null,
      "outputs": []
    }
  ]
}