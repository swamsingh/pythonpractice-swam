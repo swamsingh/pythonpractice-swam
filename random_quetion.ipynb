{
  "nbformat": 4,
  "nbformat_minor": 0,
  "metadata": {
    "colab": {
      "provenance": []
    },
    "kernelspec": {
      "name": "python3",
      "display_name": "Python 3"
    },
    "language_info": {
      "name": "python"
    }
  },
  "cells": [
    {
      "cell_type": "code",
      "execution_count": 4,
      "metadata": {
        "colab": {
          "base_uri": "https://localhost:8080/"
        },
        "id": "gO4VI_qdkhxe",
        "outputId": "e595014f-f336-43be-c924-82f7c452ac13"
      },
      "outputs": [
        {
          "output_type": "stream",
          "name": "stdout",
          "text": [
            "          # # # # # \n",
            "        # # # # # \n",
            "      # # # # # \n",
            "    # # # # # \n",
            "  # # # # # \n"
          ]
        }
      ],
      "source": [
        "n = 5\n",
        "for i in range(n):\n",
        "  for j in range(i,n):\n",
        "    print(\" \",end=\" \")\n",
        "  for j in range(n):\n",
        "\n",
        "    print(\"#\",end=\" \")\n",
        "  print()"
      ]
    },
    {
      "cell_type": "code",
      "source": [
        "n = 5\n",
        "for i in range(n):\n",
        "  for j in range(i,n):\n",
        "    print(\" \",end=\" \")\n",
        "  for j in range(n):\n",
        "\n",
        "    print(j+1,end=\" \")\n",
        "  print()"
      ],
      "metadata": {
        "colab": {
          "base_uri": "https://localhost:8080/"
        },
        "id": "z8rlE689lM_S",
        "outputId": "ebe67b74-32b9-479e-aa6f-901406ed1d2b"
      },
      "execution_count": 10,
      "outputs": [
        {
          "output_type": "stream",
          "name": "stdout",
          "text": [
            "          1 2 3 4 5 \n",
            "        1 2 3 4 5 \n",
            "      1 2 3 4 5 \n",
            "    1 2 3 4 5 \n",
            "  1 2 3 4 5 \n"
          ]
        }
      ]
    },
    {
      "cell_type": "code",
      "source": [
        "n = 5\n",
        "for i in range(n):\n",
        "  for j in range(i,n):\n",
        "    print(\" \",end=\" \")\n",
        "  for j in range(n):\n",
        "\n",
        "    print(i+1,end=\" \")\n",
        "  print()"
      ],
      "metadata": {
        "colab": {
          "base_uri": "https://localhost:8080/"
        },
        "id": "gUAwAiZilPFJ",
        "outputId": "3bc35d2a-4ed4-4c8f-e031-bb2e3f47ed36"
      },
      "execution_count": 13,
      "outputs": [
        {
          "output_type": "stream",
          "name": "stdout",
          "text": [
            "          1 1 1 1 1 \n",
            "        2 2 2 2 2 \n",
            "      3 3 3 3 3 \n",
            "    4 4 4 4 4 \n",
            "  5 5 5 5 5 \n"
          ]
        }
      ]
    },
    {
      "cell_type": "code",
      "source": [
        "n = 5\n",
        "for i in range(n):\n",
        "  for j in range(i,n):\n",
        "    print(\" \",end=\" \")\n",
        "  for j in range(n):\n",
        "    print(chr(65+j),end=\" \")\n",
        "  print()"
      ],
      "metadata": {
        "colab": {
          "base_uri": "https://localhost:8080/"
        },
        "id": "cNi3k99ImMzP",
        "outputId": "1454829d-a31a-4278-83f2-ed36dbd00699"
      },
      "execution_count": 16,
      "outputs": [
        {
          "output_type": "stream",
          "name": "stdout",
          "text": [
            "          A B C D E \n",
            "        A B C D E \n",
            "      A B C D E \n",
            "    A B C D E \n",
            "  A B C D E \n"
          ]
        }
      ]
    },
    {
      "cell_type": "code",
      "source": [
        "n = 5\n",
        "for i in range(n):\n",
        "  for j in range(i,n):\n",
        "    print(\" \",end=\" \")\n",
        "  for j in range(n):\n",
        "    print(chr(65+i),end=\" \")\n",
        "  print()"
      ],
      "metadata": {
        "colab": {
          "base_uri": "https://localhost:8080/"
        },
        "id": "rUEbXwcCmMvw",
        "outputId": "fb61d3c2-0850-4f91-f786-9248c328bc22"
      },
      "execution_count": 17,
      "outputs": [
        {
          "output_type": "stream",
          "name": "stdout",
          "text": [
            "          A A A A A \n",
            "        B B B B B \n",
            "      C C C C C \n",
            "    D D D D D \n",
            "  E E E E E \n"
          ]
        }
      ]
    },
    {
      "cell_type": "code",
      "source": [
        "# 1.Program to create a list of the first 25 odd numbers\n",
        "odd_number = [num for num in range(1, 50) if num % 2 != 0]\n",
        "print(odd_number)\n"
      ],
      "metadata": {
        "colab": {
          "base_uri": "https://localhost:8080/"
        },
        "id": "pJLLQizpmMtc",
        "outputId": "064c950d-1f96-418a-f142-775745c89860"
      },
      "execution_count": 20,
      "outputs": [
        {
          "output_type": "stream",
          "name": "stdout",
          "text": [
            "[1, 3, 5, 7, 9, 11, 13, 15, 17, 19, 21, 23, 25, 27, 29, 31, 33, 35, 37, 39, 41, 43, 45, 47, 49]\n"
          ]
        }
      ]
    },
    {
      "cell_type": "code",
      "source": [],
      "metadata": {
        "id": "YH_-RkLQncDR"
      },
      "execution_count": null,
      "outputs": []
    },
    {
      "cell_type": "code",
      "source": [],
      "metadata": {
        "id": "2P2UKCsancBr"
      },
      "execution_count": null,
      "outputs": []
    }
  ]
}